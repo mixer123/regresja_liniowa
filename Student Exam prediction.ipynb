{
 "cells": [
  {
   "cell_type": "code",
   "execution_count": 1,
   "id": "392f78e8",
   "metadata": {},
   "outputs": [],
   "source": [
    "import pandas as pd\n",
    "import seaborn as sns \n",
    "import sklearn.linear_model as sl\n",
    "import numpy as np"
   ]
  },
  {
   "cell_type": "code",
   "execution_count": 2,
   "id": "4e88c729",
   "metadata": {},
   "outputs": [],
   "source": [
    "df = pd.read_csv('student_exam_data.csv')"
   ]
  },
  {
   "cell_type": "code",
   "execution_count": 3,
   "id": "5bec5784",
   "metadata": {},
   "outputs": [
    {
     "data": {
      "text/html": [
       "<div>\n",
       "<style scoped>\n",
       "    .dataframe tbody tr th:only-of-type {\n",
       "        vertical-align: middle;\n",
       "    }\n",
       "\n",
       "    .dataframe tbody tr th {\n",
       "        vertical-align: top;\n",
       "    }\n",
       "\n",
       "    .dataframe thead th {\n",
       "        text-align: right;\n",
       "    }\n",
       "</style>\n",
       "<table border=\"1\" class=\"dataframe\">\n",
       "  <thead>\n",
       "    <tr style=\"text-align: right;\">\n",
       "      <th></th>\n",
       "      <th>Study Hours</th>\n",
       "      <th>Previous Exam Score</th>\n",
       "      <th>Pass/Fail</th>\n",
       "    </tr>\n",
       "  </thead>\n",
       "  <tbody>\n",
       "    <tr>\n",
       "      <th>0</th>\n",
       "      <td>4.370861</td>\n",
       "      <td>81.889703</td>\n",
       "      <td>0</td>\n",
       "    </tr>\n",
       "    <tr>\n",
       "      <th>1</th>\n",
       "      <td>9.556429</td>\n",
       "      <td>72.165782</td>\n",
       "      <td>1</td>\n",
       "    </tr>\n",
       "    <tr>\n",
       "      <th>2</th>\n",
       "      <td>7.587945</td>\n",
       "      <td>58.571657</td>\n",
       "      <td>0</td>\n",
       "    </tr>\n",
       "    <tr>\n",
       "      <th>3</th>\n",
       "      <td>6.387926</td>\n",
       "      <td>88.827701</td>\n",
       "      <td>1</td>\n",
       "    </tr>\n",
       "    <tr>\n",
       "      <th>4</th>\n",
       "      <td>2.404168</td>\n",
       "      <td>81.083870</td>\n",
       "      <td>0</td>\n",
       "    </tr>\n",
       "    <tr>\n",
       "      <th>...</th>\n",
       "      <td>...</td>\n",
       "      <td>...</td>\n",
       "      <td>...</td>\n",
       "    </tr>\n",
       "    <tr>\n",
       "      <th>495</th>\n",
       "      <td>4.180170</td>\n",
       "      <td>45.494924</td>\n",
       "      <td>0</td>\n",
       "    </tr>\n",
       "    <tr>\n",
       "      <th>496</th>\n",
       "      <td>6.252905</td>\n",
       "      <td>95.038815</td>\n",
       "      <td>1</td>\n",
       "    </tr>\n",
       "    <tr>\n",
       "      <th>497</th>\n",
       "      <td>1.699612</td>\n",
       "      <td>48.209118</td>\n",
       "      <td>0</td>\n",
       "    </tr>\n",
       "    <tr>\n",
       "      <th>498</th>\n",
       "      <td>9.769553</td>\n",
       "      <td>97.014241</td>\n",
       "      <td>1</td>\n",
       "    </tr>\n",
       "    <tr>\n",
       "      <th>499</th>\n",
       "      <td>9.875897</td>\n",
       "      <td>66.760346</td>\n",
       "      <td>1</td>\n",
       "    </tr>\n",
       "  </tbody>\n",
       "</table>\n",
       "<p>500 rows × 3 columns</p>\n",
       "</div>"
      ],
      "text/plain": [
       "     Study Hours  Previous Exam Score  Pass/Fail\n",
       "0       4.370861            81.889703          0\n",
       "1       9.556429            72.165782          1\n",
       "2       7.587945            58.571657          0\n",
       "3       6.387926            88.827701          1\n",
       "4       2.404168            81.083870          0\n",
       "..           ...                  ...        ...\n",
       "495     4.180170            45.494924          0\n",
       "496     6.252905            95.038815          1\n",
       "497     1.699612            48.209118          0\n",
       "498     9.769553            97.014241          1\n",
       "499     9.875897            66.760346          1\n",
       "\n",
       "[500 rows x 3 columns]"
      ]
     },
     "execution_count": 3,
     "metadata": {},
     "output_type": "execute_result"
    }
   ],
   "source": [
    "df"
   ]
  },
  {
   "cell_type": "code",
   "execution_count": 4,
   "id": "884214f4",
   "metadata": {},
   "outputs": [
    {
     "data": {
      "text/html": [
       "<div>\n",
       "<style scoped>\n",
       "    .dataframe tbody tr th:only-of-type {\n",
       "        vertical-align: middle;\n",
       "    }\n",
       "\n",
       "    .dataframe tbody tr th {\n",
       "        vertical-align: top;\n",
       "    }\n",
       "\n",
       "    .dataframe thead th {\n",
       "        text-align: right;\n",
       "    }\n",
       "</style>\n",
       "<table border=\"1\" class=\"dataframe\">\n",
       "  <thead>\n",
       "    <tr style=\"text-align: right;\">\n",
       "      <th></th>\n",
       "      <th>Study Hours</th>\n",
       "      <th>Previous Exam Score</th>\n",
       "      <th>Pass/Fail</th>\n",
       "    </tr>\n",
       "  </thead>\n",
       "  <tbody>\n",
       "    <tr>\n",
       "      <th>Study Hours</th>\n",
       "      <td>1.000000</td>\n",
       "      <td>0.010354</td>\n",
       "      <td>0.583505</td>\n",
       "    </tr>\n",
       "    <tr>\n",
       "      <th>Previous Exam Score</th>\n",
       "      <td>0.010354</td>\n",
       "      <td>1.000000</td>\n",
       "      <td>0.443706</td>\n",
       "    </tr>\n",
       "    <tr>\n",
       "      <th>Pass/Fail</th>\n",
       "      <td>0.583505</td>\n",
       "      <td>0.443706</td>\n",
       "      <td>1.000000</td>\n",
       "    </tr>\n",
       "  </tbody>\n",
       "</table>\n",
       "</div>"
      ],
      "text/plain": [
       "                     Study Hours  Previous Exam Score  Pass/Fail\n",
       "Study Hours             1.000000             0.010354   0.583505\n",
       "Previous Exam Score     0.010354             1.000000   0.443706\n",
       "Pass/Fail               0.583505             0.443706   1.000000"
      ]
     },
     "execution_count": 4,
     "metadata": {},
     "output_type": "execute_result"
    }
   ],
   "source": [
    "df.corr()"
   ]
  },
  {
   "cell_type": "code",
   "execution_count": 5,
   "id": "d2d7f8fb",
   "metadata": {},
   "outputs": [
    {
     "data": {
      "text/html": [
       "<div>\n",
       "<style scoped>\n",
       "    .dataframe tbody tr th:only-of-type {\n",
       "        vertical-align: middle;\n",
       "    }\n",
       "\n",
       "    .dataframe tbody tr th {\n",
       "        vertical-align: top;\n",
       "    }\n",
       "\n",
       "    .dataframe thead th {\n",
       "        text-align: right;\n",
       "    }\n",
       "</style>\n",
       "<table border=\"1\" class=\"dataframe\">\n",
       "  <thead>\n",
       "    <tr style=\"text-align: right;\">\n",
       "      <th></th>\n",
       "      <th>Study Hours</th>\n",
       "      <th>Previous Exam Score</th>\n",
       "      <th>Pass/Fail</th>\n",
       "    </tr>\n",
       "  </thead>\n",
       "  <tbody>\n",
       "    <tr>\n",
       "      <th>count</th>\n",
       "      <td>500.000000</td>\n",
       "      <td>500.000000</td>\n",
       "      <td>500.000000</td>\n",
       "    </tr>\n",
       "    <tr>\n",
       "      <th>mean</th>\n",
       "      <td>5.487055</td>\n",
       "      <td>68.917084</td>\n",
       "      <td>0.368000</td>\n",
       "    </tr>\n",
       "    <tr>\n",
       "      <th>std</th>\n",
       "      <td>2.688196</td>\n",
       "      <td>17.129607</td>\n",
       "      <td>0.482744</td>\n",
       "    </tr>\n",
       "    <tr>\n",
       "      <th>min</th>\n",
       "      <td>1.045554</td>\n",
       "      <td>40.277921</td>\n",
       "      <td>0.000000</td>\n",
       "    </tr>\n",
       "    <tr>\n",
       "      <th>25%</th>\n",
       "      <td>3.171517</td>\n",
       "      <td>53.745955</td>\n",
       "      <td>0.000000</td>\n",
       "    </tr>\n",
       "    <tr>\n",
       "      <th>50%</th>\n",
       "      <td>5.618474</td>\n",
       "      <td>68.309294</td>\n",
       "      <td>0.000000</td>\n",
       "    </tr>\n",
       "    <tr>\n",
       "      <th>75%</th>\n",
       "      <td>7.805124</td>\n",
       "      <td>83.580209</td>\n",
       "      <td>1.000000</td>\n",
       "    </tr>\n",
       "    <tr>\n",
       "      <th>max</th>\n",
       "      <td>9.936683</td>\n",
       "      <td>99.983060</td>\n",
       "      <td>1.000000</td>\n",
       "    </tr>\n",
       "  </tbody>\n",
       "</table>\n",
       "</div>"
      ],
      "text/plain": [
       "       Study Hours  Previous Exam Score   Pass/Fail\n",
       "count   500.000000           500.000000  500.000000\n",
       "mean      5.487055            68.917084    0.368000\n",
       "std       2.688196            17.129607    0.482744\n",
       "min       1.045554            40.277921    0.000000\n",
       "25%       3.171517            53.745955    0.000000\n",
       "50%       5.618474            68.309294    0.000000\n",
       "75%       7.805124            83.580209    1.000000\n",
       "max       9.936683            99.983060    1.000000"
      ]
     },
     "execution_count": 5,
     "metadata": {},
     "output_type": "execute_result"
    }
   ],
   "source": [
    "df.describe()"
   ]
  },
  {
   "cell_type": "code",
   "execution_count": 6,
   "id": "b2eedec2",
   "metadata": {},
   "outputs": [
    {
     "data": {
      "image/png": "[encoded data removed]",
      "text/plain": [
       "<Figure size 432x288 with 2 Axes>"
      ]
     },
     "metadata": {
      "needs_background": "light"
     },
     "output_type": "display_data"
    }
   ],
   "source": [
    "dataplot = sns.heatmap(df.corr(), cmap=\"YlGnBu\", annot=True) "
   ]
  },
  {
   "cell_type": "code",
   "execution_count": 7,
   "id": "594bf074",
   "metadata": {},
   "outputs": [
    {
     "data": {
      "text/plain": [
       "<AxesSubplot:xlabel='Study Hours', ylabel='Pass/Fail'>"
      ]
     },
     "execution_count": 7,
     "metadata": {},
     "output_type": "execute_result"
    },
    {
     "data": {
      "image/png": "[encoded data removed]",
      "text/plain": [
       "<Figure size 432x288 with 1 Axes>"
      ]
     },
     "metadata": {
      "needs_background": "light"
     },
     "output_type": "display_data"
    }
   ],
   "source": [
    "# tips = sns.load_dataset(\"df\")\n",
    "\n",
    "sns.histplot(x=df['Study Hours'], y=df['Pass/Fail'], data=df)"
   ]
  },
  {
   "cell_type": "markdown",
   "id": "f21f1b46",
   "metadata": {},
   "source": [
    "# Regresja liniowa"
   ]
  },
  {
   "cell_type": "code",
   "execution_count": 8,
   "id": "5729665c",
   "metadata": {},
   "outputs": [],
   "source": [
    "x=df['Study Hours'].values"
   ]
  },
  {
   "cell_type": "code",
   "execution_count": 9,
   "id": "81696db8",
   "metadata": {},
   "outputs": [
    {
     "data": {
      "text/plain": [
       "array([4.37086107, 9.55642876, 7.58794548, 6.38792636, 2.40416776,\n",
       "       2.40395068, 1.52275251, 8.79558531, 6.41003511, 7.3726532 ,\n",
       "       1.18526045, 9.72918867, 8.49198377, 2.911052  , 2.6364247 ,\n",
       "       2.65064059, 3.73818019, 5.72280788, 4.88750517, 3.62106226,\n",
       "       6.50667605, 2.25544475, 3.62930184, 4.29725659, 5.10462986,\n",
       "       8.06658365, 2.79706404, 5.62810995, 6.33173112, 1.41805371,\n",
       "       6.46790367, 2.53471711, 1.58546434, 9.53996984, 9.6906883 ,\n",
       "       8.27557613, 3.74152392, 1.87904903, 7.15809724, 4.96137244,\n",
       "       2.09834411, 5.45659219, 1.30949669, 9.18388362, 3.32901983,\n",
       "       6.96270056, 3.80539968, 5.68061219, 5.92039251, 2.6636901 ,\n",
       "       9.72626165, 7.97619541, 9.45549047, 9.05344615, 6.38109981,\n",
       "       9.29686812, 1.79643252, 2.76384576, 1.4070456 , 3.92797298,\n",
       "       4.49809561, 3.44214129, 8.45863758, 4.21077994, 3.52841059,\n",
       "       5.88426475, 2.26831802, 8.21977283, 1.67095579, 9.88198243,\n",
       "       7.95020292, 2.78844113, 1.04969905, 8.33915286, 7.36171609,\n",
       "       7.56106451, 7.94143312, 1.66640187, 4.22619156, 2.04282154,\n",
       "       8.76793083, 6.60968314, 3.97808222, 1.57202515, 3.7988409 ,\n",
       "       3.9266499 , 7.56645561, 6.73801724, 8.98491468, 5.24993433,\n",
       "       2.07634821, 7.41920309, 7.84706544, 6.05149478, 7.93870462,\n",
       "       5.44416037, 5.70459546, 4.84786917, 1.22877214, 1.97102284,\n",
       "       1.28286267, 6.7276937 , 3.82920383, 5.57713622, 9.16809827,\n",
       "       3.24363006, 4.69344631, 7.79996025, 3.05918349, 1.69281919,\n",
       "       3.60776308, 2.45099159, 9.36727887, 8.27308342, 6.70063381,\n",
       "       8.84314531, 8.23304869, 2.67913053, 9.03303099, 5.85408018,\n",
       "       8.2669614 , 9.0648217 , 3.86203127, 1.99046732, 3.05141646,\n",
       "       4.8439701 , 8.36213289, 8.74657525, 1.06256917, 5.59672572,\n",
       "       4.75669903, 2.99897029, 2.07878831, 4.03853654, 9.48618734,\n",
       "       3.90882639, 5.6691156 , 7.32717063, 4.27266642, 9.74603874,\n",
       "       9.66202565, 3.26604066, 5.47523655, 3.70790479, 3.56356445,\n",
       "       1.33198253, 6.48607901, 5.52411121, 1.46330876, 3.50781818,\n",
       "       9.17439297, 3.15605702, 2.30405385, 5.40507484, 9.87085409,\n",
       "       3.17849744, 7.04921993, 7.85457654, 3.1387379 , 7.55394714,\n",
       "       4.31004819, 6.69075248, 6.7017674 , 5.82197216, 1.81260793,\n",
       "       8.51772246, 3.88702058, 2.67866659, 1.36697627, 6.31803649,\n",
       "       7.09807926, 1.14929046, 5.60883752, 3.03846198, 6.80655511,\n",
       "       2.56929786, 7.21843964, 4.48061812, 9.4305699 , 2.2376885 ,\n",
       "       4.06959716, 2.02126169, 9.32224256, 8.89605418, 3.32147465,\n",
       "       6.93985641, 8.3549998 , 5.9968073 , 5.76685521, 3.17667062,\n",
       "       1.83792491, 9.07494182, 9.10376251, 6.69791312, 4.05126812,\n",
       "       4.14288617, 7.53360111, 9.07399234, 8.98377782, 8.01887991,\n",
       "       6.77828482, 1.75725968, 2.45465843, 9.0869877 , 6.45786154,\n",
       "       1.08277346, 1.91324389, 6.97151592, 1.04555425, 2.44727246,\n",
       "       5.9386041 , 7.22705678, 6.86765134, 3.01842379, 7.40961299,\n",
       "       3.13524179, 3.92859728, 7.71842265, 6.84669609, 8.64301069,\n",
       "       6.91851603, 6.11477743, 1.84307291, 4.30944223, 3.38682131,\n",
       "       3.19590679, 9.75709499, 4.53787952, 9.028419  , 6.68024763,\n",
       "       8.15330173, 5.52373384, 6.19213496, 5.43265924, 2.75718689,\n",
       "       7.50206904, 3.52695126, 1.2188437 , 6.80925066, 2.59399611,\n",
       "       9.46412726, 9.58535719, 9.23377951, 4.3314283 , 1.13910955,\n",
       "       9.35486706, 4.85365733, 9.69989337, 9.67257979, 8.6770851 ,\n",
       "       3.65004003, 4.46587956, 8.66023004, 3.85229805, 2.52543472,\n",
       "       6.01121136, 9.42539297, 7.26426817, 6.13055053, 1.87458844,\n",
       "       6.53506504, 9.91048465, 2.26075614, 5.66496687, 8.89635765,\n",
       "       7.66691756, 7.27314167, 7.32235676, 4.23542036, 3.6423266 ,\n",
       "       8.2842504 , 8.29102055, 8.80365087, 9.21916497, 5.60208159,\n",
       "       5.51364665, 8.18465661, 6.84967538, 7.3177019 , 8.16213402,\n",
       "       9.01004808, 4.04195641, 4.38024657, 1.84583746, 6.20452127,\n",
       "       1.32348046, 5.19038216, 5.88380171, 3.57887127, 6.31749935,\n",
       "       1.27450225, 1.3361337 , 8.40340505, 4.24171577, 2.14354461,\n",
       "       5.70018934, 7.92994198, 2.94238925, 6.60601428, 1.76812718,\n",
       "       1.46513549, 5.78219168, 5.86571609, 6.73686911, 7.534822  ,\n",
       "       9.78266872, 5.64670313, 3.90660826, 8.15667575, 3.43749026,\n",
       "       4.95074279, 1.70610743, 1.22815669, 9.66383573, 8.52382108,\n",
       "       7.26376785, 4.6805765 , 2.55964888, 2.40793338, 3.25218608,\n",
       "       5.94303998, 7.4313633 , 6.94177639, 3.51940507, 9.59378753,\n",
       "       7.64107225, 5.98918647, 6.50548672, 4.77640056, 3.22957891,\n",
       "       4.20375411, 7.82061499, 1.1295414 , 2.04465376, 1.41402378,\n",
       "       1.36655922, 8.69914526, 7.33292073, 5.26756446, 1.88050745,\n",
       "       5.42454288, 5.26124594, 2.55881683, 4.90466484, 4.58654261,\n",
       "       6.54265088, 6.71584286, 1.40773609, 4.37151353, 6.63273924,\n",
       "       5.52822633, 8.70840857, 6.92824268, 2.46640984, 1.63511873,\n",
       "       6.7817735 , 1.23860179, 6.27198023, 9.46207217, 6.1792676 ,\n",
       "       4.49352934, 6.78959397, 5.12427601, 5.9105511 , 9.47318328,\n",
       "       4.47492374, 9.65071507, 9.14815578, 2.76212021, 1.62425171,\n",
       "       1.90700201, 1.16399643, 1.84998665, 7.14706096, 1.64069784,\n",
       "       3.87078067, 8.6038778 , 1.20944742, 8.33021634, 3.53669297,\n",
       "       2.06348345, 7.27063449, 6.66048562, 8.89724812, 7.61563939,\n",
       "       8.23132837, 3.53831115, 2.59695589, 7.75553276, 8.26151265,\n",
       "       9.91454628, 4.71355909, 4.34816277, 7.98771665, 4.06723186,\n",
       "       9.37681593, 8.72571477, 4.86094625, 7.75783961, 7.79088587,\n",
       "       1.92811482, 9.12297616, 5.54727135, 8.43811719, 3.88044641,\n",
       "       9.05970906, 4.50281511, 1.09753886, 9.14843779, 1.82158009,\n",
       "       3.87382274, 9.5505577 , 9.55546432, 6.16094099, 6.68653491,\n",
       "       5.0360097 , 3.63889695, 3.95798091, 7.0526661 , 7.77137076,\n",
       "       8.12421139, 8.10656329, 1.82085493, 5.44978274, 1.51802884,\n",
       "       5.94575994, 4.97377451, 8.98933764, 4.15823511, 2.05360315,\n",
       "       2.28692514, 7.85359569, 6.56396257, 1.91010409, 1.75696126,\n",
       "       7.30872218, 1.65486706, 8.39674053, 7.35618004, 1.73213903,\n",
       "       1.76353943, 9.87975621, 4.36843716, 4.33577932, 8.31519611,\n",
       "       9.5252372 , 9.87400957, 7.78040367, 4.38633627, 1.75150645,\n",
       "       7.99432224, 6.02563825, 4.81799808, 9.15718947, 2.00077734,\n",
       "       5.43362594, 1.1021828 , 5.21794578, 1.50672948, 2.06936125,\n",
       "       2.05773622, 6.84289272, 7.71440391, 6.25031889, 9.65955294,\n",
       "       4.37383522, 3.57140878, 8.81739215, 3.01236255, 9.66900285,\n",
       "       1.10939027, 9.72890944, 1.38843921, 9.02028802, 5.74930998,\n",
       "       9.93668317, 1.66416908, 5.98468856, 9.72372282, 5.7078806 ,\n",
       "       6.66458774, 7.2617382 , 5.09086958, 6.64802272, 6.25882881,\n",
       "       9.11042209, 1.40901742, 3.52866871, 9.55370336, 9.01237406,\n",
       "       5.10091078, 6.58119338, 3.49643065, 2.69309044, 5.17328564,\n",
       "       4.18017005, 6.25290501, 1.69961173, 9.76955327, 9.8758967 ])"
      ]
     },
     "execution_count": 9,
     "metadata": {},
     "output_type": "execute_result"
    }
   ],
   "source": [
    "x = np.array(x)\n",
    "x"
   ]
  },
  {
   "cell_type": "code",
   "execution_count": 10,
   "id": "be4a14c0",
   "metadata": {},
   "outputs": [],
   "source": [
    "y=df['Previous Exam Score'].values"
   ]
  },
  {
   "cell_type": "code",
   "execution_count": 11,
   "id": "fbaf4811",
   "metadata": {},
   "outputs": [
    {
     "data": {
      "text/plain": [
       "array([81.88970284, 72.16578198, 58.57165698, 88.82770118, 81.08387035,\n",
       "       49.75701636, 94.65563107, 89.35223458, 96.9879948 , 83.5431705 ,\n",
       "       76.80491176, 65.09458218, 95.963709  , 91.96383337, 42.71312021,\n",
       "       41.58201847, 62.58780201, 88.63319985, 99.23656776, 49.02501347,\n",
       "       75.64784292, 62.8534514 , 98.19486387, 90.52713539, 90.29972228,\n",
       "       68.12158959, 64.88917014, 56.40442432, 43.3825298 , 91.88334258,\n",
       "       88.77406055, 99.9830604 , 99.79821022, 73.32590234, 86.13924491,\n",
       "       96.68594379, 90.97884344, 54.8408861 , 67.03264812, 47.74956491,\n",
       "       97.24306164, 76.37047807, 53.71856833, 80.30204106, 77.08769443,\n",
       "       61.48976308, 46.81345553, 80.29439174, 71.21846205, 86.3391035 ,\n",
       "       71.20981007, 91.13089002, 73.11441033, 73.65627829, 92.59921616,\n",
       "       64.20897197, 48.04091371, 41.72696058, 85.30823534, 77.21857308,\n",
       "       82.24478609, 52.77784969, 48.18228854, 40.87267994, 61.03525353,\n",
       "       75.39506121, 63.53464271, 66.24849532, 94.24952167, 60.89532802,\n",
       "       70.83936935, 87.01918076, 63.79256694, 77.32520201, 91.74182252,\n",
       "       96.97123742, 48.82440886, 95.59525751, 69.52697758, 55.4946633 ,\n",
       "       67.54814537, 98.80195452, 69.55708564, 59.72509662, 78.00405126,\n",
       "       54.40873713, 44.55179969, 47.73278331, 47.68275034, 49.11416161,\n",
       "       48.32963036, 78.45248469, 50.91280506, 60.740037  , 93.80730459,\n",
       "       68.43769842, 80.05346431, 50.33919227, 51.53734113, 42.45211698,\n",
       "       50.13610378, 56.71542034, 50.62062906, 45.32215203, 47.23815227,\n",
       "       67.64672608, 52.3800231 , 61.85619166, 70.20503625, 81.42368972,\n",
       "       42.35872839, 87.96462393, 77.67402337, 44.90554192, 92.41471745,\n",
       "       95.25234403, 43.66467759, 56.61265889, 88.37207679, 84.89558142,\n",
       "       51.07126116, 52.5609594 , 62.22832617, 69.07137911, 77.09528629,\n",
       "       62.13481837, 67.75208297, 84.84825629, 42.20099217, 55.14621666,\n",
       "       82.80097515, 93.71241026, 70.70064653, 71.92680912, 46.43032068,\n",
       "       66.84474201, 71.95703599, 54.54823022, 56.15459386, 62.63704979,\n",
       "       41.20427187, 59.32474993, 52.68688042, 59.64984113, 47.18572791,\n",
       "       93.43163684, 75.61554721, 80.74613915, 87.35027432, 69.90653194,\n",
       "       45.21521729, 72.22639251, 75.21046708, 84.72636845, 65.89957277,\n",
       "       47.65481817, 57.02655435, 61.78493778, 78.75503448, 74.24669828,\n",
       "       61.36580355, 99.19091493, 76.34648916, 54.2336075 , 46.10694836,\n",
       "       49.17154835, 54.7574637 , 49.6408824 , 51.19402144, 57.10571012,\n",
       "       50.40241572, 93.80592548, 44.81402474, 71.47068337, 64.62380962,\n",
       "       98.94271701, 46.72233413, 63.87133594, 98.168226  , 91.93042755,\n",
       "       89.02432426, 55.47416962, 50.25325524, 80.1185932 , 95.76255935,\n",
       "       73.40577358, 74.29676137, 56.79874562, 86.16957599, 51.22262491,\n",
       "       59.42075418, 65.52618632, 70.45662272, 54.54458394, 46.89020948,\n",
       "       76.63720255, 57.31783319, 74.87429329, 49.26176292, 68.86840611,\n",
       "       71.95536595, 43.10941221, 60.19625669, 48.06488062, 43.80249823,\n",
       "       99.39761394, 59.3412307 , 88.59246675, 55.27843929, 80.89016333,\n",
       "       85.61367159, 75.73832444, 68.29457131, 64.71045485, 60.93209599,\n",
       "       95.77174865, 89.83716447, 97.90161464, 47.45783341, 83.85204851,\n",
       "       96.30042741, 50.87398397, 43.98977604, 84.46723896, 74.46838679,\n",
       "       90.50972661, 48.3863426 , 87.71603871, 52.0976392 , 49.81935657,\n",
       "       49.85594788, 88.87448321, 79.91183324, 71.38392549, 61.52982905,\n",
       "       92.63203245, 63.54670645, 88.99596637, 66.34809451, 62.61666577,\n",
       "       67.76078714, 58.08267245, 84.85656281, 70.16322341, 53.93276171,\n",
       "       93.9744744 , 63.03347328, 72.61317167, 94.38832666, 77.45427975,\n",
       "       47.01388244, 96.38992742, 77.66248318, 60.09433688, 48.35632436,\n",
       "       87.64151136, 77.20436536, 72.00766552, 93.63355498, 87.31583267,\n",
       "       49.10049278, 58.70332407, 54.90934839, 84.63677755, 42.01194608,\n",
       "       74.19338109, 85.74752114, 92.60593821, 60.52490492, 89.27543828,\n",
       "       46.63790422, 90.7871375 , 47.64931974, 63.83723743, 87.83772195,\n",
       "       48.99504564, 53.75508371, 83.3351541 , 83.20219219, 78.46885797,\n",
       "       81.63690667, 72.5634666 , 55.10794353, 60.74175961, 50.89586301,\n",
       "       94.50703368, 75.00350769, 64.05108501, 67.72034822, 96.83700038,\n",
       "       49.20108419, 75.17378992, 70.35332073, 76.68725413, 41.08661103,\n",
       "       92.32743454, 95.92709695, 73.90799102, 81.79904943, 95.34996287,\n",
       "       82.43431806, 49.15234257, 74.57730161, 76.40290278, 65.44784028,\n",
       "       84.18665414, 96.06202089, 95.53411077, 67.05036228, 46.79428275,\n",
       "       99.09047194, 90.33388519, 47.47976087, 95.25051296, 92.19378172,\n",
       "       71.13028343, 75.47652614, 63.94016223, 43.28569833, 60.1118345 ,\n",
       "       88.17120692, 40.27792138, 60.0099503 , 63.89012162, 72.24373618,\n",
       "       95.19133698, 60.78075966, 60.81719211, 84.25007489, 67.13307645,\n",
       "       53.47628938, 67.14637097, 48.45142122, 50.58321919, 69.90206636,\n",
       "       65.13552697, 94.89075406, 61.74363395, 74.83530102, 77.93585728,\n",
       "       40.7856674 , 79.81224232, 50.68215801, 97.66421905, 48.91976367,\n",
       "       64.87744742, 45.12098008, 99.81245511, 70.13170062, 75.72310104,\n",
       "       44.02458864, 84.99762822, 52.59433559, 93.88325737, 52.30837843,\n",
       "       51.44126324, 42.19298007, 68.32401671, 73.890468  , 43.94251837,\n",
       "       86.531657  , 67.19733008, 71.46341616, 66.44576482, 64.04578365,\n",
       "       73.57841988, 49.31441476, 50.91568783, 91.70713726, 96.76692773,\n",
       "       62.39855898, 56.24468039, 78.63997259, 64.52405027, 41.52318134,\n",
       "       49.36915584, 82.95833373, 79.53543651, 41.62575955, 53.31832972,\n",
       "       53.8644878 , 80.31356462, 41.18263227, 46.24651492, 87.99496512,\n",
       "       50.71267972, 79.16476647, 54.29096686, 45.96648357, 54.59033146,\n",
       "       83.33601591, 91.34178809, 89.81319187, 63.83101178, 80.08510819,\n",
       "       52.29905772, 57.58886382, 93.78014911, 40.78011541, 45.13051185,\n",
       "       52.47317531, 41.59193223, 50.88612611, 74.98249366, 65.28547304,\n",
       "       93.56030266, 89.0466137 , 60.5090411 , 55.56540601, 62.78154449,\n",
       "       75.41769655, 56.08381845, 77.44893447, 64.56469913, 73.12283085,\n",
       "       66.16759175, 57.66794557, 96.90719842, 85.81634765, 48.40679055,\n",
       "       92.10807855, 69.24587189, 93.67313361, 87.99131536, 65.51281027,\n",
       "       41.3481585 , 56.12064156, 72.49805288, 78.00869319, 55.47326113,\n",
       "       48.36136444, 90.09581421, 99.06413084, 71.54141094, 50.30075715,\n",
       "       56.33843959, 41.10344059, 94.85792839, 47.06506497, 74.59098853,\n",
       "       56.44331324, 73.25068015, 79.0852233 , 89.78450822, 52.38527631,\n",
       "       40.65974972, 48.2131378 , 94.00111851, 92.43340465, 75.84478613,\n",
       "       76.03101163, 79.90220047, 50.52227672, 94.86471676, 65.12623149,\n",
       "       62.98831169, 71.13506232, 42.81795801, 49.97700213, 84.28201699,\n",
       "       44.96792008, 76.18912657, 54.72094658, 63.35773684, 57.32162421,\n",
       "       61.34036299, 83.14275431, 57.82730294, 73.98427842, 68.56302413,\n",
       "       79.82026992, 96.20978436, 83.95432583, 52.89642272, 41.8709881 ,\n",
       "       55.73584266, 75.70467584, 43.08554881, 69.78197483, 75.81057094,\n",
       "       60.05463345, 86.25473222, 46.39589519, 44.5082669 , 83.69132537,\n",
       "       69.72947897, 81.30414379, 66.08964032, 54.78412199, 89.14613906,\n",
       "       87.96495274, 81.68178825, 56.32870823, 75.41384001, 61.65843382,\n",
       "       45.4949244 , 95.03881453, 48.20911786, 97.01424123, 66.76034638])"
      ]
     },
     "execution_count": 11,
     "metadata": {},
     "output_type": "execute_result"
    }
   ],
   "source": [
    "y"
   ]
  },
  {
   "cell_type": "code",
   "execution_count": 12,
   "id": "5d32f02a",
   "metadata": {},
   "outputs": [
    {
     "ename": "ValueError",
     "evalue": "Expected 2D array, got 1D array instead:\narray=[4.37086107 9.55642876 7.58794548 6.38792636 2.40416776 2.40395068\n 1.52275251 8.79558531 6.41003511 7.3726532  1.18526045 9.72918867\n 8.49198377 2.911052   2.6364247  2.65064059 3.73818019 5.72280788\n 4.88750517 3.62106226 6.50667605 2.25544475 3.62930184 4.29725659\n 5.10462986 8.06658365 2.79706404 5.62810995 6.33173112 1.41805371\n 6.46790367 2.53471711 1.58546434 9.53996984 9.6906883  8.27557613\n 3.74152392 1.87904903 7.15809724 4.96137244 2.09834411 5.45659219\n 1.30949669 9.18388362 3.32901983 6.96270056 3.80539968 5.68061219\n 5.92039251 2.6636901  9.72626165 7.97619541 9.45549047 9.05344615\n 6.38109981 9.29686812 1.79643252 2.76384576 1.4070456  3.92797298\n 4.49809561 3.44214129 8.45863758 4.21077994 3.52841059 5.88426475\n 2.26831802 8.21977283 1.67095579 9.88198243 7.95020292 2.78844113\n 1.04969905 8.33915286 7.36171609 7.56106451 7.94143312 1.66640187\n 4.22619156 2.04282154 8.76793083 6.60968314 3.97808222 1.57202515\n 3.7988409  3.9266499  7.56645561 6.73801724 8.98491468 5.24993433\n 2.07634821 7.41920309 7.84706544 6.05149478 7.93870462 5.44416037\n 5.70459546 4.84786917 1.22877214 1.97102284 1.28286267 6.7276937\n 3.82920383 5.57713622 9.16809827 3.24363006 4.69344631 7.79996025\n 3.05918349 1.69281919 3.60776308 2.45099159 9.36727887 8.27308342\n 6.70063381 8.84314531 8.23304869 2.67913053 9.03303099 5.85408018\n 8.2669614  9.0648217  3.86203127 1.99046732 3.05141646 4.8439701\n 8.36213289 8.74657525 1.06256917 5.59672572 4.75669903 2.99897029\n 2.07878831 4.03853654 9.48618734 3.90882639 5.6691156  7.32717063\n 4.27266642 9.74603874 9.66202565 3.26604066 5.47523655 3.70790479\n 3.56356445 1.33198253 6.48607901 5.52411121 1.46330876 3.50781818\n 9.17439297 3.15605702 2.30405385 5.40507484 9.87085409 3.17849744\n 7.04921993 7.85457654 3.1387379  7.55394714 4.31004819 6.69075248\n 6.7017674  5.82197216 1.81260793 8.51772246 3.88702058 2.67866659\n 1.36697627 6.31803649 7.09807926 1.14929046 5.60883752 3.03846198\n 6.80655511 2.56929786 7.21843964 4.48061812 9.4305699  2.2376885\n 4.06959716 2.02126169 9.32224256 8.89605418 3.32147465 6.93985641\n 8.3549998  5.9968073  5.76685521 3.17667062 1.83792491 9.07494182\n 9.10376251 6.69791312 4.05126812 4.14288617 7.53360111 9.07399234\n 8.98377782 8.01887991 6.77828482 1.75725968 2.45465843 9.0869877\n 6.45786154 1.08277346 1.91324389 6.97151592 1.04555425 2.44727246\n 5.9386041  7.22705678 6.86765134 3.01842379 7.40961299 3.13524179\n 3.92859728 7.71842265 6.84669609 8.64301069 6.91851603 6.11477743\n 1.84307291 4.30944223 3.38682131 3.19590679 9.75709499 4.53787952\n 9.028419   6.68024763 8.15330173 5.52373384 6.19213496 5.43265924\n 2.75718689 7.50206904 3.52695126 1.2188437  6.80925066 2.59399611\n 9.46412726 9.58535719 9.23377951 4.3314283  1.13910955 9.35486706\n 4.85365733 9.69989337 9.67257979 8.6770851  3.65004003 4.46587956\n 8.66023004 3.85229805 2.52543472 6.01121136 9.42539297 7.26426817\n 6.13055053 1.87458844 6.53506504 9.91048465 2.26075614 5.66496687\n 8.89635765 7.66691756 7.27314167 7.32235676 4.23542036 3.6423266\n 8.2842504  8.29102055 8.80365087 9.21916497 5.60208159 5.51364665\n 8.18465661 6.84967538 7.3177019  8.16213402 9.01004808 4.04195641\n 4.38024657 1.84583746 6.20452127 1.32348046 5.19038216 5.88380171\n 3.57887127 6.31749935 1.27450225 1.3361337  8.40340505 4.24171577\n 2.14354461 5.70018934 7.92994198 2.94238925 6.60601428 1.76812718\n 1.46513549 5.78219168 5.86571609 6.73686911 7.534822   9.78266872\n 5.64670313 3.90660826 8.15667575 3.43749026 4.95074279 1.70610743\n 1.22815669 9.66383573 8.52382108 7.26376785 4.6805765  2.55964888\n 2.40793338 3.25218608 5.94303998 7.4313633  6.94177639 3.51940507\n 9.59378753 7.64107225 5.98918647 6.50548672 4.77640056 3.22957891\n 4.20375411 7.82061499 1.1295414  2.04465376 1.41402378 1.36655922\n 8.69914526 7.33292073 5.26756446 1.88050745 5.42454288 5.26124594\n 2.55881683 4.90466484 4.58654261 6.54265088 6.71584286 1.40773609\n 4.37151353 6.63273924 5.52822633 8.70840857 6.92824268 2.46640984\n 1.63511873 6.7817735  1.23860179 6.27198023 9.46207217 6.1792676\n 4.49352934 6.78959397 5.12427601 5.9105511  9.47318328 4.47492374\n 9.65071507 9.14815578 2.76212021 1.62425171 1.90700201 1.16399643\n 1.84998665 7.14706096 1.64069784 3.87078067 8.6038778  1.20944742\n 8.33021634 3.53669297 2.06348345 7.27063449 6.66048562 8.89724812\n 7.61563939 8.23132837 3.53831115 2.59695589 7.75553276 8.26151265\n 9.91454628 4.71355909 4.34816277 7.98771665 4.06723186 9.37681593\n 8.72571477 4.86094625 7.75783961 7.79088587 1.92811482 9.12297616\n 5.54727135 8.43811719 3.88044641 9.05970906 4.50281511 1.09753886\n 9.14843779 1.82158009 3.87382274 9.5505577  9.55546432 6.16094099\n 6.68653491 5.0360097  3.63889695 3.95798091 7.0526661  7.77137076\n 8.12421139 8.10656329 1.82085493 5.44978274 1.51802884 5.94575994\n 4.97377451 8.98933764 4.15823511 2.05360315 2.28692514 7.85359569\n 6.56396257 1.91010409 1.75696126 7.30872218 1.65486706 8.39674053\n 7.35618004 1.73213903 1.76353943 9.87975621 4.36843716 4.33577932\n 8.31519611 9.5252372  9.87400957 7.78040367 4.38633627 1.75150645\n 7.99432224 6.02563825 4.81799808 9.15718947 2.00077734 5.43362594\n 1.1021828  5.21794578 1.50672948 2.06936125 2.05773622 6.84289272\n 7.71440391 6.25031889 9.65955294 4.37383522 3.57140878 8.81739215\n 3.01236255 9.66900285 1.10939027 9.72890944 1.38843921 9.02028802\n 5.74930998 9.93668317 1.66416908 5.98468856 9.72372282 5.7078806\n 6.66458774 7.2617382  5.09086958 6.64802272 6.25882881 9.11042209\n 1.40901742 3.52866871 9.55370336 9.01237406 5.10091078 6.58119338\n 3.49643065 2.69309044 5.17328564 4.18017005 6.25290501 1.69961173\n 9.76955327 9.8758967 ].\nReshape your data either using array.reshape(-1, 1) if your data has a single feature or array.reshape(1, -1) if it contains a single sample.",
     "output_type": "error",
     "traceback": [
      "\u001b[0;31m---------------------------------------------------------------------------\u001b[0m",
      "\u001b[0;31mValueError\u001b[0m                                Traceback (most recent call last)",
      "\u001b[0;32m/tmp/ipykernel_4795/397104269.py\u001b[0m in \u001b[0;36m<module>\u001b[0;34m\u001b[0m\n\u001b[1;32m      1\u001b[0m \u001b[0mmodel_regresji_score\u001b[0m \u001b[0;34m=\u001b[0m \u001b[0msl\u001b[0m\u001b[0;34m.\u001b[0m\u001b[0mLinearRegression\u001b[0m\u001b[0;34m(\u001b[0m\u001b[0;34m)\u001b[0m\u001b[0;34m\u001b[0m\u001b[0;34m\u001b[0m\u001b[0m\n\u001b[0;32m----> 2\u001b[0;31m \u001b[0mmodel_regresji_score\u001b[0m\u001b[0;34m.\u001b[0m\u001b[0mfit\u001b[0m\u001b[0;34m(\u001b[0m\u001b[0mx\u001b[0m\u001b[0;34m,\u001b[0m \u001b[0my\u001b[0m\u001b[0;34m)\u001b[0m\u001b[0;34m\u001b[0m\u001b[0;34m\u001b[0m\u001b[0m\n\u001b[0m",
      "\u001b[0;32m~/anaconda3/lib/python3.9/site-packages/sklearn/linear_model/_base.py\u001b[0m in \u001b[0;36mfit\u001b[0;34m(self, X, y, sample_weight)\u001b[0m\n\u001b[1;32m    516\u001b[0m         \u001b[0maccept_sparse\u001b[0m \u001b[0;34m=\u001b[0m \u001b[0;32mFalse\u001b[0m \u001b[0;32mif\u001b[0m \u001b[0mself\u001b[0m\u001b[0;34m.\u001b[0m\u001b[0mpositive\u001b[0m \u001b[0;32melse\u001b[0m \u001b[0;34m[\u001b[0m\u001b[0;34m'csr'\u001b[0m\u001b[0;34m,\u001b[0m \u001b[0;34m'csc'\u001b[0m\u001b[0;34m,\u001b[0m \u001b[0;34m'coo'\u001b[0m\u001b[0;34m]\u001b[0m\u001b[0;34m\u001b[0m\u001b[0;34m\u001b[0m\u001b[0m\n\u001b[1;32m    517\u001b[0m \u001b[0;34m\u001b[0m\u001b[0m\n\u001b[0;32m--> 518\u001b[0;31m         X, y = self._validate_data(X, y, accept_sparse=accept_sparse,\n\u001b[0m\u001b[1;32m    519\u001b[0m                                    y_numeric=True, multi_output=True)\n\u001b[1;32m    520\u001b[0m \u001b[0;34m\u001b[0m\u001b[0m\n",
      "\u001b[0;32m~/anaconda3/lib/python3.9/site-packages/sklearn/base.py\u001b[0m in \u001b[0;36m_validate_data\u001b[0;34m(self, X, y, reset, validate_separately, **check_params)\u001b[0m\n\u001b[1;32m    431\u001b[0m                 \u001b[0my\u001b[0m \u001b[0;34m=\u001b[0m \u001b[0mcheck_array\u001b[0m\u001b[0;34m(\u001b[0m\u001b[0my\u001b[0m\u001b[0;34m,\u001b[0m \u001b[0;34m**\u001b[0m\u001b[0mcheck_y_params\u001b[0m\u001b[0;34m)\u001b[0m\u001b[0;34m\u001b[0m\u001b[0;34m\u001b[0m\u001b[0m\n\u001b[1;32m    432\u001b[0m             \u001b[0;32melse\u001b[0m\u001b[0;34m:\u001b[0m\u001b[0;34m\u001b[0m\u001b[0;34m\u001b[0m\u001b[0m\n\u001b[0;32m--> 433\u001b[0;31m                 \u001b[0mX\u001b[0m\u001b[0;34m,\u001b[0m \u001b[0my\u001b[0m \u001b[0;34m=\u001b[0m \u001b[0mcheck_X_y\u001b[0m\u001b[0;34m(\u001b[0m\u001b[0mX\u001b[0m\u001b[0;34m,\u001b[0m \u001b[0my\u001b[0m\u001b[0;34m,\u001b[0m \u001b[0;34m**\u001b[0m\u001b[0mcheck_params\u001b[0m\u001b[0;34m)\u001b[0m\u001b[0;34m\u001b[0m\u001b[0;34m\u001b[0m\u001b[0m\n\u001b[0m\u001b[1;32m    434\u001b[0m             \u001b[0mout\u001b[0m \u001b[0;34m=\u001b[0m \u001b[0mX\u001b[0m\u001b[0;34m,\u001b[0m \u001b[0my\u001b[0m\u001b[0;34m\u001b[0m\u001b[0;34m\u001b[0m\u001b[0m\n\u001b[1;32m    435\u001b[0m \u001b[0;34m\u001b[0m\u001b[0m\n",
      "\u001b[0;32m~/anaconda3/lib/python3.9/site-packages/sklearn/utils/validation.py\u001b[0m in \u001b[0;36minner_f\u001b[0;34m(*args, **kwargs)\u001b[0m\n\u001b[1;32m     61\u001b[0m             \u001b[0mextra_args\u001b[0m \u001b[0;34m=\u001b[0m \u001b[0mlen\u001b[0m\u001b[0;34m(\u001b[0m\u001b[0margs\u001b[0m\u001b[0;34m)\u001b[0m \u001b[0;34m-\u001b[0m \u001b[0mlen\u001b[0m\u001b[0;34m(\u001b[0m\u001b[0mall_args\u001b[0m\u001b[0;34m)\u001b[0m\u001b[0;34m\u001b[0m\u001b[0;34m\u001b[0m\u001b[0m\n\u001b[1;32m     62\u001b[0m             \u001b[0;32mif\u001b[0m \u001b[0mextra_args\u001b[0m \u001b[0;34m<=\u001b[0m \u001b[0;36m0\u001b[0m\u001b[0;34m:\u001b[0m\u001b[0;34m\u001b[0m\u001b[0;34m\u001b[0m\u001b[0m\n\u001b[0;32m---> 63\u001b[0;31m                 \u001b[0;32mreturn\u001b[0m \u001b[0mf\u001b[0m\u001b[0;34m(\u001b[0m\u001b[0;34m*\u001b[0m\u001b[0margs\u001b[0m\u001b[0;34m,\u001b[0m \u001b[0;34m**\u001b[0m\u001b[0mkwargs\u001b[0m\u001b[0;34m)\u001b[0m\u001b[0;34m\u001b[0m\u001b[0;34m\u001b[0m\u001b[0m\n\u001b[0m\u001b[1;32m     64\u001b[0m \u001b[0;34m\u001b[0m\u001b[0m\n\u001b[1;32m     65\u001b[0m             \u001b[0;31m# extra_args > 0\u001b[0m\u001b[0;34m\u001b[0m\u001b[0;34m\u001b[0m\u001b[0m\n",
      "\u001b[0;32m~/anaconda3/lib/python3.9/site-packages/sklearn/utils/validation.py\u001b[0m in \u001b[0;36mcheck_X_y\u001b[0;34m(X, y, accept_sparse, accept_large_sparse, dtype, order, copy, force_all_finite, ensure_2d, allow_nd, multi_output, ensure_min_samples, ensure_min_features, y_numeric, estimator)\u001b[0m\n\u001b[1;32m    869\u001b[0m         \u001b[0;32mraise\u001b[0m \u001b[0mValueError\u001b[0m\u001b[0;34m(\u001b[0m\u001b[0;34m\"y cannot be None\"\u001b[0m\u001b[0;34m)\u001b[0m\u001b[0;34m\u001b[0m\u001b[0;34m\u001b[0m\u001b[0m\n\u001b[1;32m    870\u001b[0m \u001b[0;34m\u001b[0m\u001b[0m\n\u001b[0;32m--> 871\u001b[0;31m     X = check_array(X, accept_sparse=accept_sparse,\n\u001b[0m\u001b[1;32m    872\u001b[0m                     \u001b[0maccept_large_sparse\u001b[0m\u001b[0;34m=\u001b[0m\u001b[0maccept_large_sparse\u001b[0m\u001b[0;34m,\u001b[0m\u001b[0;34m\u001b[0m\u001b[0;34m\u001b[0m\u001b[0m\n\u001b[1;32m    873\u001b[0m                     \u001b[0mdtype\u001b[0m\u001b[0;34m=\u001b[0m\u001b[0mdtype\u001b[0m\u001b[0;34m,\u001b[0m \u001b[0morder\u001b[0m\u001b[0;34m=\u001b[0m\u001b[0morder\u001b[0m\u001b[0;34m,\u001b[0m \u001b[0mcopy\u001b[0m\u001b[0;34m=\u001b[0m\u001b[0mcopy\u001b[0m\u001b[0;34m,\u001b[0m\u001b[0;34m\u001b[0m\u001b[0;34m\u001b[0m\u001b[0m\n",
      "\u001b[0;32m~/anaconda3/lib/python3.9/site-packages/sklearn/utils/validation.py\u001b[0m in \u001b[0;36minner_f\u001b[0;34m(*args, **kwargs)\u001b[0m\n\u001b[1;32m     61\u001b[0m             \u001b[0mextra_args\u001b[0m \u001b[0;34m=\u001b[0m \u001b[0mlen\u001b[0m\u001b[0;34m(\u001b[0m\u001b[0margs\u001b[0m\u001b[0;34m)\u001b[0m \u001b[0;34m-\u001b[0m \u001b[0mlen\u001b[0m\u001b[0;34m(\u001b[0m\u001b[0mall_args\u001b[0m\u001b[0;34m)\u001b[0m\u001b[0;34m\u001b[0m\u001b[0;34m\u001b[0m\u001b[0m\n\u001b[1;32m     62\u001b[0m             \u001b[0;32mif\u001b[0m \u001b[0mextra_args\u001b[0m \u001b[0;34m<=\u001b[0m \u001b[0;36m0\u001b[0m\u001b[0;34m:\u001b[0m\u001b[0;34m\u001b[0m\u001b[0;34m\u001b[0m\u001b[0m\n\u001b[0;32m---> 63\u001b[0;31m                 \u001b[0;32mreturn\u001b[0m \u001b[0mf\u001b[0m\u001b[0;34m(\u001b[0m\u001b[0;34m*\u001b[0m\u001b[0margs\u001b[0m\u001b[0;34m,\u001b[0m \u001b[0;34m**\u001b[0m\u001b[0mkwargs\u001b[0m\u001b[0;34m)\u001b[0m\u001b[0;34m\u001b[0m\u001b[0;34m\u001b[0m\u001b[0m\n\u001b[0m\u001b[1;32m     64\u001b[0m \u001b[0;34m\u001b[0m\u001b[0m\n\u001b[1;32m     65\u001b[0m             \u001b[0;31m# extra_args > 0\u001b[0m\u001b[0;34m\u001b[0m\u001b[0;34m\u001b[0m\u001b[0m\n",
      "\u001b[0;32m~/anaconda3/lib/python3.9/site-packages/sklearn/utils/validation.py\u001b[0m in \u001b[0;36mcheck_array\u001b[0;34m(array, accept_sparse, accept_large_sparse, dtype, order, copy, force_all_finite, ensure_2d, allow_nd, ensure_min_samples, ensure_min_features, estimator)\u001b[0m\n\u001b[1;32m    692\u001b[0m             \u001b[0;31m# If input is 1D raise error\u001b[0m\u001b[0;34m\u001b[0m\u001b[0;34m\u001b[0m\u001b[0m\n\u001b[1;32m    693\u001b[0m             \u001b[0;32mif\u001b[0m \u001b[0marray\u001b[0m\u001b[0;34m.\u001b[0m\u001b[0mndim\u001b[0m \u001b[0;34m==\u001b[0m \u001b[0;36m1\u001b[0m\u001b[0;34m:\u001b[0m\u001b[0;34m\u001b[0m\u001b[0;34m\u001b[0m\u001b[0m\n\u001b[0;32m--> 694\u001b[0;31m                 raise ValueError(\n\u001b[0m\u001b[1;32m    695\u001b[0m                     \u001b[0;34m\"Expected 2D array, got 1D array instead:\\narray={}.\\n\"\u001b[0m\u001b[0;34m\u001b[0m\u001b[0;34m\u001b[0m\u001b[0m\n\u001b[1;32m    696\u001b[0m                     \u001b[0;34m\"Reshape your data either using array.reshape(-1, 1) if \"\u001b[0m\u001b[0;34m\u001b[0m\u001b[0;34m\u001b[0m\u001b[0m\n",
      "\u001b[0;31mValueError\u001b[0m: Expected 2D array, got 1D array instead:\narray=[4.37086107 9.55642876 7.58794548 6.38792636 2.40416776 2.40395068\n 1.52275251 8.79558531 6.41003511 7.3726532  1.18526045 9.72918867\n 8.49198377 2.911052   2.6364247  2.65064059 3.73818019 5.72280788\n 4.88750517 3.62106226 6.50667605 2.25544475 3.62930184 4.29725659\n 5.10462986 8.06658365 2.79706404 5.62810995 6.33173112 1.41805371\n 6.46790367 2.53471711 1.58546434 9.53996984 9.6906883  8.27557613\n 3.74152392 1.87904903 7.15809724 4.96137244 2.09834411 5.45659219\n 1.30949669 9.18388362 3.32901983 6.96270056 3.80539968 5.68061219\n 5.92039251 2.6636901  9.72626165 7.97619541 9.45549047 9.05344615\n 6.38109981 9.29686812 1.79643252 2.76384576 1.4070456  3.92797298\n 4.49809561 3.44214129 8.45863758 4.21077994 3.52841059 5.88426475\n 2.26831802 8.21977283 1.67095579 9.88198243 7.95020292 2.78844113\n 1.04969905 8.33915286 7.36171609 7.56106451 7.94143312 1.66640187\n 4.22619156 2.04282154 8.76793083 6.60968314 3.97808222 1.57202515\n 3.7988409  3.9266499  7.56645561 6.73801724 8.98491468 5.24993433\n 2.07634821 7.41920309 7.84706544 6.05149478 7.93870462 5.44416037\n 5.70459546 4.84786917 1.22877214 1.97102284 1.28286267 6.7276937\n 3.82920383 5.57713622 9.16809827 3.24363006 4.69344631 7.79996025\n 3.05918349 1.69281919 3.60776308 2.45099159 9.36727887 8.27308342\n 6.70063381 8.84314531 8.23304869 2.67913053 9.03303099 5.85408018\n 8.2669614  9.0648217  3.86203127 1.99046732 3.05141646 4.8439701\n 8.36213289 8.74657525 1.06256917 5.59672572 4.75669903 2.99897029\n 2.07878831 4.03853654 9.48618734 3.90882639 5.6691156  7.32717063\n 4.27266642 9.74603874 9.66202565 3.26604066 5.47523655 3.70790479\n 3.56356445 1.33198253 6.48607901 5.52411121 1.46330876 3.50781818\n 9.17439297 3.15605702 2.30405385 5.40507484 9.87085409 3.17849744\n 7.04921993 7.85457654 3.1387379  7.55394714 4.31004819 6.69075248\n 6.7017674  5.82197216 1.81260793 8.51772246 3.88702058 2.67866659\n 1.36697627 6.31803649 7.09807926 1.14929046 5.60883752 3.03846198\n 6.80655511 2.56929786 7.21843964 4.48061812 9.4305699  2.2376885\n 4.06959716 2.02126169 9.32224256 8.89605418 3.32147465 6.93985641\n 8.3549998  5.9968073  5.76685521 3.17667062 1.83792491 9.07494182\n 9.10376251 6.69791312 4.05126812 4.14288617 7.53360111 9.07399234\n 8.98377782 8.01887991 6.77828482 1.75725968 2.45465843 9.0869877\n 6.45786154 1.08277346 1.91324389 6.97151592 1.04555425 2.44727246\n 5.9386041  7.22705678 6.86765134 3.01842379 7.40961299 3.13524179\n 3.92859728 7.71842265 6.84669609 8.64301069 6.91851603 6.11477743\n 1.84307291 4.30944223 3.38682131 3.19590679 9.75709499 4.53787952\n 9.028419   6.68024763 8.15330173 5.52373384 6.19213496 5.43265924\n 2.75718689 7.50206904 3.52695126 1.2188437  6.80925066 2.59399611\n 9.46412726 9.58535719 9.23377951 4.3314283  1.13910955 9.35486706\n 4.85365733 9.69989337 9.67257979 8.6770851  3.65004003 4.46587956\n 8.66023004 3.85229805 2.52543472 6.01121136 9.42539297 7.26426817\n 6.13055053 1.87458844 6.53506504 9.91048465 2.26075614 5.66496687\n 8.89635765 7.66691756 7.27314167 7.32235676 4.23542036 3.6423266\n 8.2842504  8.29102055 8.80365087 9.21916497 5.60208159 5.51364665\n 8.18465661 6.84967538 7.3177019  8.16213402 9.01004808 4.04195641\n 4.38024657 1.84583746 6.20452127 1.32348046 5.19038216 5.88380171\n 3.57887127 6.31749935 1.27450225 1.3361337  8.40340505 4.24171577\n 2.14354461 5.70018934 7.92994198 2.94238925 6.60601428 1.76812718\n 1.46513549 5.78219168 5.86571609 6.73686911 7.534822   9.78266872\n 5.64670313 3.90660826 8.15667575 3.43749026 4.95074279 1.70610743\n 1.22815669 9.66383573 8.52382108 7.26376785 4.6805765  2.55964888\n 2.40793338 3.25218608 5.94303998 7.4313633  6.94177639 3.51940507\n 9.59378753 7.64107225 5.98918647 6.50548672 4.77640056 3.22957891\n 4.20375411 7.82061499 1.1295414  2.04465376 1.41402378 1.36655922\n 8.69914526 7.33292073 5.26756446 1.88050745 5.42454288 5.26124594\n 2.55881683 4.90466484 4.58654261 6.54265088 6.71584286 1.40773609\n 4.37151353 6.63273924 5.52822633 8.70840857 6.92824268 2.46640984\n 1.63511873 6.7817735  1.23860179 6.27198023 9.46207217 6.1792676\n 4.49352934 6.78959397 5.12427601 5.9105511  9.47318328 4.47492374\n 9.65071507 9.14815578 2.76212021 1.62425171 1.90700201 1.16399643\n 1.84998665 7.14706096 1.64069784 3.87078067 8.6038778  1.20944742\n 8.33021634 3.53669297 2.06348345 7.27063449 6.66048562 8.89724812\n 7.61563939 8.23132837 3.53831115 2.59695589 7.75553276 8.26151265\n 9.91454628 4.71355909 4.34816277 7.98771665 4.06723186 9.37681593\n 8.72571477 4.86094625 7.75783961 7.79088587 1.92811482 9.12297616\n 5.54727135 8.43811719 3.88044641 9.05970906 4.50281511 1.09753886\n 9.14843779 1.82158009 3.87382274 9.5505577  9.55546432 6.16094099\n 6.68653491 5.0360097  3.63889695 3.95798091 7.0526661  7.77137076\n 8.12421139 8.10656329 1.82085493 5.44978274 1.51802884 5.94575994\n 4.97377451 8.98933764 4.15823511 2.05360315 2.28692514 7.85359569\n 6.56396257 1.91010409 1.75696126 7.30872218 1.65486706 8.39674053\n 7.35618004 1.73213903 1.76353943 9.87975621 4.36843716 4.33577932\n 8.31519611 9.5252372  9.87400957 7.78040367 4.38633627 1.75150645\n 7.99432224 6.02563825 4.81799808 9.15718947 2.00077734 5.43362594\n 1.1021828  5.21794578 1.50672948 2.06936125 2.05773622 6.84289272\n 7.71440391 6.25031889 9.65955294 4.37383522 3.57140878 8.81739215\n 3.01236255 9.66900285 1.10939027 9.72890944 1.38843921 9.02028802\n 5.74930998 9.93668317 1.66416908 5.98468856 9.72372282 5.7078806\n 6.66458774 7.2617382  5.09086958 6.64802272 6.25882881 9.11042209\n 1.40901742 3.52866871 9.55370336 9.01237406 5.10091078 6.58119338\n 3.49643065 2.69309044 5.17328564 4.18017005 6.25290501 1.69961173\n 9.76955327 9.8758967 ].\nReshape your data either using array.reshape(-1, 1) if your data has a single feature or array.reshape(1, -1) if it contains a single sample."
     ]
    }
   ],
   "source": [
    "model_regresji_score = sl.LinearRegression()\n",
    "model_regresji_score.fit(x, y)"
   ]
  },
  {
   "cell_type": "code",
   "execution_count": null,
   "id": "0d8d89a2",
   "metadata": {},
   "outputs": [],
   "source": []
  }
 ],
 "metadata": {
  "kernelspec": {
   "display_name": "Python 3 (ipykernel)",
   "language": "python",
   "name": "python3"
  },
  "language_info": {
   "codemirror_mode": {
    "name": "ipython",
    "version": 3
   },
   "file_extension": ".py",
   "mimetype": "text/x-python",
   "name": "python",
   "nbconvert_exporter": "python",
   "pygments_lexer": "ipython3",
   "version": "3.9.7"
  }
 },
 "nbformat": 4,
 "nbformat_minor": 5
}
